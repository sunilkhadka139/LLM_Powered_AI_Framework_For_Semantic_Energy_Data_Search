{
  "nbformat": 4,
  "nbformat_minor": 0,
  "metadata": {
    "colab": {
      "provenance": [],
      "authorship_tag": "ABX9TyOdDyP8y2bXaEGwDMUMhhGB",
      "include_colab_link": true
    },
    "kernelspec": {
      "name": "python3",
      "display_name": "Python 3"
    },
    "language_info": {
      "name": "python"
    }
  },
  "cells": [
    {
      "cell_type": "markdown",
      "metadata": {
        "id": "view-in-github",
        "colab_type": "text"
      },
      "source": [
        "<a href=\"https://colab.research.google.com/github/sunilkhadka139/LLM_Powered_AI_Framework_For_Semantic_Energy_Data_Search/blob/PeiYu/RAG_Transportation_Data.ipynb\" target=\"_parent\"><img src=\"https://colab.research.google.com/assets/colab-badge.svg\" alt=\"Open In Colab\"/></a>"
      ]
    },
    {
      "cell_type": "markdown",
      "source": [
        "# Set Up"
      ],
      "metadata": {
        "id": "xIQeA8iVXx-x"
      }
    },
    {
      "cell_type": "code",
      "source": [
        "!pip install cohere==4.20.1\n",
        "!pip install -q condacolab\n",
        "import condacolab\n",
        "condacolab.install()\n",
        "!conda install -c conda-forge python-annoy"
      ],
      "metadata": {
        "colab": {
          "base_uri": "https://localhost:8080/"
        },
        "id": "gC4860QRYBLw",
        "outputId": "0067fd5b-9dec-48d9-c0c2-41ad36bce14f"
      },
      "execution_count": 2,
      "outputs": [
        {
          "output_type": "stream",
          "name": "stdout",
          "text": [
            "Collecting cohere==4.20.1\n",
            "  Downloading cohere-4.20.1-py3-none-any.whl (45 kB)\n",
            "\u001b[?25l     \u001b[90m━━━━━━━━━━━━━━━━━━━━━━━━━━━━━━━━━━━━━━━━\u001b[0m \u001b[32m0.0/45.9 kB\u001b[0m \u001b[31m?\u001b[0m eta \u001b[36m-:--:--\u001b[0m\r\u001b[2K     \u001b[91m━━━━━━━━━━━━━━━━━━━━━━━━━━━━━━━━━━━\u001b[0m\u001b[91m╸\u001b[0m\u001b[90m━━━━\u001b[0m \u001b[32m41.0/45.9 kB\u001b[0m \u001b[31m993.5 kB/s\u001b[0m eta \u001b[36m0:00:01\u001b[0m\r\u001b[2K     \u001b[90m━━━━━━━━━━━━━━━━━━━━━━━━━━━━━━━━━━━━━━━━\u001b[0m \u001b[32m45.9/45.9 kB\u001b[0m \u001b[31m825.1 kB/s\u001b[0m eta \u001b[36m0:00:00\u001b[0m\n",
            "\u001b[?25hRequirement already satisfied: aiohttp<4.0,>=3.0 in /usr/local/lib/python3.10/dist-packages (from cohere==4.20.1) (3.9.3)\n",
            "Collecting backoff<3.0,>=2.0 (from cohere==4.20.1)\n",
            "  Downloading backoff-2.2.1-py3-none-any.whl (15 kB)\n",
            "Collecting fastavro==1.8.2 (from cohere==4.20.1)\n",
            "  Downloading fastavro-1.8.2-cp310-cp310-manylinux_2_17_x86_64.manylinux2014_x86_64.whl (2.7 MB)\n",
            "\u001b[2K     \u001b[90m━━━━━━━━━━━━━━━━━━━━━━━━━━━━━━━━━━━━━━━━\u001b[0m \u001b[32m2.7/2.7 MB\u001b[0m \u001b[31m11.6 MB/s\u001b[0m eta \u001b[36m0:00:00\u001b[0m\n",
            "\u001b[?25hCollecting importlib_metadata<7.0,>=6.0 (from cohere==4.20.1)\n",
            "  Downloading importlib_metadata-6.11.0-py3-none-any.whl (23 kB)\n",
            "Requirement already satisfied: requests<3.0.0,>=2.25.0 in /usr/local/lib/python3.10/dist-packages (from cohere==4.20.1) (2.31.0)\n",
            "Requirement already satisfied: urllib3<3,>=1.26 in /usr/local/lib/python3.10/dist-packages (from cohere==4.20.1) (2.0.7)\n",
            "Requirement already satisfied: aiosignal>=1.1.2 in /usr/local/lib/python3.10/dist-packages (from aiohttp<4.0,>=3.0->cohere==4.20.1) (1.3.1)\n",
            "Requirement already satisfied: attrs>=17.3.0 in /usr/local/lib/python3.10/dist-packages (from aiohttp<4.0,>=3.0->cohere==4.20.1) (23.2.0)\n",
            "Requirement already satisfied: frozenlist>=1.1.1 in /usr/local/lib/python3.10/dist-packages (from aiohttp<4.0,>=3.0->cohere==4.20.1) (1.4.1)\n",
            "Requirement already satisfied: multidict<7.0,>=4.5 in /usr/local/lib/python3.10/dist-packages (from aiohttp<4.0,>=3.0->cohere==4.20.1) (6.0.5)\n",
            "Requirement already satisfied: yarl<2.0,>=1.0 in /usr/local/lib/python3.10/dist-packages (from aiohttp<4.0,>=3.0->cohere==4.20.1) (1.9.4)\n",
            "Requirement already satisfied: async-timeout<5.0,>=4.0 in /usr/local/lib/python3.10/dist-packages (from aiohttp<4.0,>=3.0->cohere==4.20.1) (4.0.3)\n",
            "Requirement already satisfied: zipp>=0.5 in /usr/local/lib/python3.10/dist-packages (from importlib_metadata<7.0,>=6.0->cohere==4.20.1) (3.18.1)\n",
            "Requirement already satisfied: charset-normalizer<4,>=2 in /usr/local/lib/python3.10/dist-packages (from requests<3.0.0,>=2.25.0->cohere==4.20.1) (3.3.2)\n",
            "Requirement already satisfied: idna<4,>=2.5 in /usr/local/lib/python3.10/dist-packages (from requests<3.0.0,>=2.25.0->cohere==4.20.1) (3.6)\n",
            "Requirement already satisfied: certifi>=2017.4.17 in /usr/local/lib/python3.10/dist-packages (from requests<3.0.0,>=2.25.0->cohere==4.20.1) (2024.2.2)\n",
            "Installing collected packages: importlib_metadata, fastavro, backoff, cohere\n",
            "  Attempting uninstall: importlib_metadata\n",
            "    Found existing installation: importlib_metadata 7.1.0\n",
            "    Uninstalling importlib_metadata-7.1.0:\n",
            "      Successfully uninstalled importlib_metadata-7.1.0\n",
            "Successfully installed backoff-2.2.1 cohere-4.20.1 fastavro-1.8.2 importlib_metadata-6.11.0\n",
            "⏬ Downloading https://github.com/conda-forge/miniforge/releases/download/23.11.0-0/Mambaforge-23.11.0-0-Linux-x86_64.sh...\n",
            "📦 Installing...\n",
            "📌 Adjusting configuration...\n",
            "🩹 Patching environment...\n",
            "⏲ Done in 0:00:12\n",
            "🔁 Restarting kernel...\n",
            "Channels:\n",
            " - conda-forge\n",
            "Platform: linux-64\n",
            "Collecting package metadata (repodata.json): - \b\b\\ \b\b| \b\b/ \b\b- \b\b\\ \b\b| \b\b/ \b\b- \b\b\\ \b\b| \b\b/ \b\b- \b\b\\ \b\b| \b\b/ \b\b- \b\b\\ \b\b| \b\b/ \b\b- \b\b\\ \b\b| \b\b/ \b\b- \b\b\\ \b\b| \b\b/ \b\b- \b\b\\ \b\b| \b\b/ \b\b- \b\b\\ \b\b| \b\b/ \b\b- \b\b\\ \b\b| \b\b/ \b\b- \b\b\\ \b\b| \b\b/ \b\b- \b\b\\ \b\b| \b\b/ \b\b- \b\b\\ \b\b| \b\b/ \b\b- \b\b\\ \b\b| \b\b/ \b\b- \b\b\\ \b\b| \b\b/ \b\b- \b\b\\ \b\b| \b\b/ \b\b- \b\b\\ \b\b| \b\b/ \b\b- \b\b\\ \b\b| \b\b/ \b\b- \b\b\\ \b\b| \b\b/ \b\b- \b\b\\ \b\b| \b\b/ \b\b- \b\b\\ \b\b| \b\b/ \b\b- \b\b\\ \b\b| \b\b/ \b\b- \b\b\\ \b\b| \b\b/ \b\b- \b\b\\ \b\b| \b\b/ \b\b- \b\b\\ \b\b| \b\b/ \b\b- \b\b\\ \b\b| \b\b/ \b\b- \b\b\\ \b\b| \b\b/ \b\b- \b\b\\ \b\b| \b\b/ \b\b- \b\b\\ \b\b| \b\b/ \b\b- \b\b\\ \b\b| \b\b/ \b\b- \b\b\\ \b\b| \b\b/ \b\b- \b\b\\ \b\b| \b\b/ \b\b- \b\b\\ \b\b| \b\b/ \b\b- \b\b\\ \b\b| \b\b/ \b\b- \b\b\\ \b\b| \b\b/ \b\b- \b\b\\ \b\b| \b\b/ \b\b- \b\b\\ \b\b| \b\b/ \b\b- \b\b\\ \b\b| \b\b/ \b\b- \b\b\\ \b\b| \b\b/ \b\b- \b\b\\ \b\b| \b\b/ \b\b- \b\b\\ \b\b| \b\b/ \b\b- \b\b\\ \b\b| \b\b/ \b\b- \b\b\\ \b\b| \b\b/ \b\b- \b\b\\ \b\b| \b\b/ \b\b- \b\b\\ \b\b| \b\b/ \b\b- \b\b\\ \b\b| \b\b/ \b\b- \b\b\\ \b\b| \b\b/ \b\b- \b\b\\ \b\b| \b\b/ \b\b- \b\b\\ \b\b| \b\b/ \b\b- \b\b\\ \b\b| \b\b/ \b\b- \b\b\\ \b\b| \b\b/ \b\b- \b\b\\ \b\b| \b\b/ \b\b- \b\b\\ \b\b| \b\b/ \b\b- \b\b\\ \b\b| \b\b/ \b\b- \b\b\\ \b\b| \b\b/ \b\b- \b\bdone\n",
            "Solving environment: | \b\b/ \b\b- \b\bdone\n",
            "\n",
            "\n",
            "==> WARNING: A newer version of conda exists. <==\n",
            "    current version: 23.11.0\n",
            "    latest version: 24.3.0\n",
            "\n",
            "Please update conda by running\n",
            "\n",
            "    $ conda update -n base -c conda-forge conda\n",
            "\n",
            "\n",
            "\n",
            "## Package Plan ##\n",
            "\n",
            "  environment location: /usr/local\n",
            "\n",
            "  added / updated specs:\n",
            "    - python-annoy\n",
            "\n",
            "\n",
            "The following packages will be downloaded:\n",
            "\n",
            "    package                    |            build\n",
            "    ---------------------------|-----------------\n",
            "    ca-certificates-2024.2.2   |       hbcca054_0         152 KB  conda-forge\n",
            "    certifi-2024.2.2           |     pyhd8ed1ab_0         157 KB  conda-forge\n",
            "    openssl-3.2.1              |       hd590300_1         2.7 MB  conda-forge\n",
            "    python-annoy-1.17.2        |  py310hc6cd4ac_1          66 KB  conda-forge\n",
            "    ------------------------------------------------------------\n",
            "                                           Total:         3.1 MB\n",
            "\n",
            "The following NEW packages will be INSTALLED:\n",
            "\n",
            "  python-annoy       conda-forge/linux-64::python-annoy-1.17.2-py310hc6cd4ac_1 \n",
            "\n",
            "The following packages will be UPDATED:\n",
            "\n",
            "  ca-certificates                     2023.11.17-hbcca054_0 --> 2024.2.2-hbcca054_0 \n",
            "  certifi                           2023.11.17-pyhd8ed1ab_0 --> 2024.2.2-pyhd8ed1ab_0 \n",
            "  openssl                                  3.2.0-hd590300_1 --> 3.2.1-hd590300_1 \n",
            "\n",
            "\n",
            "\n",
            "Downloading and Extracting Packages:\n",
            "openssl-3.2.1        | 2.7 MB    | :   0% 0/1 [00:00<?, ?it/s]\n",
            "certifi-2024.2.2     | 157 KB    | :   0% 0/1 [00:00<?, ?it/s]\u001b[A\n",
            "\n",
            "ca-certificates-2024 | 152 KB    | :   0% 0/1 [00:00<?, ?it/s]\u001b[A\u001b[A\n",
            "\n",
            "\n",
            "python-annoy-1.17.2  | 66 KB     | :   0% 0/1 [00:00<?, ?it/s]\u001b[A\u001b[A\u001b[A\n",
            "openssl-3.2.1        | 2.7 MB    | :   1% 0.005717917245851247/1 [00:00<00:25, 25.94s/it]\n",
            "\n",
            "\n",
            "python-annoy-1.17.2  | 66 KB     | :  24% 0.243678981498007/1 [00:00<00:00,  1.55it/s]\u001b[A\u001b[A\u001b[A\n",
            "\n",
            "ca-certificates-2024 | 152 KB    | :  11% 0.10540943949765814/1 [00:00<00:01,  1.58s/it]\u001b[A\u001b[A\n",
            "certifi-2024.2.2     | 157 KB    | : 100% 1.0/1 [00:00<00:00,  1.34s/it]                \u001b[A\n",
            "\n",
            "\n",
            "python-annoy-1.17.2  | 66 KB     | : 100% 1.0/1 [00:00<00:00,  1.55it/s]              \u001b[A\u001b[A\u001b[A\n",
            "\n",
            "                                                                        \n",
            "                                                                        \u001b[A\n",
            "\n",
            "                                                                        \u001b[A\u001b[A\n",
            "\n",
            "\n",
            "                                                                        \u001b[A\u001b[A\u001b[A\n",
            "Preparing transaction: | \b\bdone\n",
            "Verifying transaction: - \b\b\\ \b\bdone\n",
            "Executing transaction: / \b\b- \b\b\\ \b\b| \b\b/ \b\b- \b\b\\ \b\b| \b\b/ \b\b- \b\bdone\n"
          ]
        }
      ]
    },
    {
      "cell_type": "code",
      "execution_count": 3,
      "metadata": {
        "colab": {
          "base_uri": "https://localhost:8080/"
        },
        "id": "bLsjoJXxXuk7",
        "outputId": "2b9a2df4-26ae-4333-e25c-3feac4d0001a"
      },
      "outputs": [
        {
          "output_type": "stream",
          "name": "stdout",
          "text": [
            "Mounted at /content/drive\n"
          ]
        }
      ],
      "source": [
        "from google.colab import drive\n",
        "drive.mount('/content/drive')"
      ]
    },
    {
      "cell_type": "markdown",
      "source": [
        "# Prepare for the Data"
      ],
      "metadata": {
        "id": "96Ibq57rY1bz"
      }
    },
    {
      "cell_type": "code",
      "source": [
        "# Prepare for the data\n",
        "from os import sep\n",
        "import pandas as pd\n",
        "data_path = \"/content/drive/My Drive/Colab Notebooks/RAG/Data/Transportation_Data_Information.csv\"\n",
        "df = pd.read_csv(data_path,sep='|')\n",
        "\n",
        "# Preprocessingc\n",
        "\n",
        "#df['4emb']=str(df.to_dict(orient='records'))\n",
        "\n",
        "#df['4emb']=df['Data Set'].str.replace('_',' ')+ ', ' + df['Description']\n",
        "#df"
      ],
      "metadata": {
        "id": "mTZNrAUWXyNg"
      },
      "execution_count": 1,
      "outputs": []
    },
    {
      "cell_type": "code",
      "source": [],
      "metadata": {
        "id": "dXW-zPyPPZrO"
      },
      "execution_count": null,
      "outputs": []
    },
    {
      "cell_type": "code",
      "source": [
        "total_sentences = []\n",
        "for r in range(df.shape[0]):\n",
        "  total_sentences.append(str((df.iloc[r].to_dict())))\n",
        "\n",
        "total_sentences"
      ],
      "metadata": {
        "colab": {
          "base_uri": "https://localhost:8080/"
        },
        "id": "MLnCJ2LeEDu4",
        "outputId": "a53d397e-8a22-4bf5-9a5b-02ec8c8f0e60"
      },
      "execution_count": 41,
      "outputs": [
        {
          "output_type": "execute_result",
          "data": {
            "text/plain": [
              "[\"{'Data Set': 'Miovision_Intersection', 'Database': '[PCDOT_Miovision].[dbo].[mio_intersection_list]', 'Related Data Set': 'Miovision_Crosswalk', 'Description': 'The Miovision_Intersection dataset provides basic about individual intersections, offering identification numbers, user-assigned names, and geographic coordinates for location tracking. Additionally, the dataset allows for flexible data management through custom identifiers. More Info: [https://docs.api.miovision.com/]', 'Location to access data  (Directory / URL/ API)': 'API', 'Knowledge Base': 'Directory:(/Transportation_Data/Transportation_Miovision_Intersection.csv)', 'Example API ': 'https://catsapi.ua-smart.org/miovision/intersections', 'Constrain': nan}\",\n",
              " '{\\'Data Set\\': \\'Miovision_Crosswalk\\', \\'Database\\': \\'[PCDOT_Miovision].[dbo].[mio_crosswalk]\\', \\'Related Data Set\\': \\'Miovision_Intersection, Traffic_terms\\', \\'Description\\': \\'Miovision crosswalk data offers a concise summary of pedestrian and bicycle activities at intersections. Each entry is uniquely identified with a timestamp, recording the date and time of observations. The data categorizes movements into \"Pedestrian\" or \"Bicycle,\" specifying the crosswalk side, direction (CW or CCW), and the quantity of observed activities. More Info: [https://docs.api.miovision.com/]\\', \\'Location to access data  (Directory / URL/ API)\\': \\'API\\', \\'Knowledge Base\\': \\'Directory:(/Transportation_Data/Transportation_Miovision_Crosswalk.csv)\\', \\'Example API \\': \\'https://catsapi.ua-smart.org/miovision/crosswalk?int_id=01560127-afd1-40e9-bd76-904340407fd8&int_id=0d4a1ca7-45e7-43cb-80b0-005d2f49303f&date=2024-01-01\\', \\'Constrain\\': \\'(1) Intersection ID and Date are required (2) Intersection ID can be obtained from  the result of the Miovision_Intersection API (3) The amount of the Intersection ID has to be less than 10  (4) date in the format YYYY-MM-DD\\'}',\n",
              " '{\\'Data Set\\': \\'Inrix_Segments\\', \\'Database\\': \\'[ADOT_INRIX].[dbo].[InrixSegments]\\', \\'Related Data Set\\': \\'Inrix_Speed\\', \\'Description\\': \"INRIX Segments database consists of two main segment types: XD segments and TMC segments. XD segments are INRIX\\'s proprietary road segmentation system designed to break at significant intersections, with a maximum length of 1,600 meters, providing extensive coverage across all road classes. TMC segments encode Traffic Message Channel location tables onto the linear road network, primarily covering major roads. INRIX Segments data includes unique identifiers, segment type, free flow speed, length, road classification, name, country, latitude, and longitude. This data undergoes frequent updates to reflect changes in the road network. INRIX offers various methods to spatially describe XD segments for compatibility with diverse mapping systems.\", \\'Location to access data  (Directory / URL/ API)\\': \\'API\\', \\'Knowledge Base\\': \\'Directory:(/Transportation_Data/Transportation_Inrix_Segments.csv)\\', \\'Example API \\': \\'https://catsapi.ua-smart.org/inrix/segments\\', \\'Constrain\\': nan}',\n",
              " \"{'Data Set': 'Inrix_Speed', 'Database': '[ADOT_INRIX].[dbo].[Inrix_Realtime]', 'Related Data Set': 'Inrix_Segments, Traffic_terms', 'Description': 'The Inrix Segment Speed dataset provides real-time and average speed information for road segments, enabling traffic condition and congestion level assessment. Each entry includes a timestamp, SegmentID, type (TMC or XDS), estimated speed, average speed, reference free-flow speed, confidence values, travel time, congestion levels, and segment closure information. The Segment Speeds API allows retrieving detailed road segment data based on geographies or specific identifiers, offering a valuable resource for real-time traffic monitoring, transportation planning, and informed decision-making.', 'Location to access data  (Directory / URL/ API)': 'API', 'Knowledge Base': 'Directory:(/Transportation_Data/Transportation_Inrix_Speed.csv)', 'Example API ': 'https://catsapi.ua-smart.org/inrix/speeds?segment_id=115+04103&int_id=115+04443&date=2019-05-11', 'Constrain': '(1) Segment ID and Date are required  (2) Segment ID can be gotten from the result of the Inrix_Segments API (3) The amount of the Segment ID has to be less than 5 (4) date in the format YYYY-MM-DD'}\",\n",
              " \"{'Data Set': 'Traffic_terms', 'Database': nan, 'Related Data Set': 'Miovision_Crosswalk,Inrix_Speed', 'Description': 'The Traffic terms dataset lists the meaning of the special signs used in the related data sets. By referring to the information, people can have more understanding about the results.', 'Location to access data  (Directory / URL/ API)': 'Directory:(/Transportation_Data/Transportation_Traffic_terms.csv)', 'Knowledge Base': nan, 'Example API ': nan, 'Constrain': nan}\"]"
            ]
          },
          "metadata": {},
          "execution_count": 41
        }
      ]
    },
    {
      "cell_type": "markdown",
      "source": [
        "# Sentence Embeddings"
      ],
      "metadata": {
        "id": "wBIpRwWfXKLA"
      }
    },
    {
      "cell_type": "code",
      "source": [
        "import cohere\n",
        "from annoy import AnnoyIndex\n",
        "\n",
        "co = cohere.Client('qYOIHoiJz1P3Jo7BeqdgxApGv0kTiCInhvGHW0MO')\n",
        "\n",
        "#emb = co.embed(texts=df['4emb'].tolist(),\n",
        "#               model='embed-english-v2.0').embeddings\n",
        "emb = co.embed(texts=total_sentences,\n",
        "               model='embed-english-v2.0').embeddings\n",
        "\n",
        "# Explore the 10 first entries of the embeddings of the 3 sentences:\n",
        "for e in emb:\n",
        "    print(e[:3])"
      ],
      "metadata": {
        "colab": {
          "base_uri": "https://localhost:8080/"
        },
        "id": "bqrY6aHPYi1Z",
        "outputId": "52df7c33-bb85-4dd2-f64d-5201698507f6"
      },
      "execution_count": 42,
      "outputs": [
        {
          "output_type": "stream",
          "name": "stdout",
          "text": [
            "[-1.1181641, 0.25463867, 0.7495117]\n",
            "[-1.1064453, 0.40966797, 0.44750977]\n",
            "[-1.3388672, 1.5488281, 0.7871094]\n",
            "[-0.05117798, -0.13061523, -0.08453369]\n",
            "[-0.8725586, 0.014678955, 1.03125]\n"
          ]
        }
      ]
    },
    {
      "cell_type": "markdown",
      "source": [
        "# Build a Search Index"
      ],
      "metadata": {
        "id": "tdb7qweAZJwj"
      }
    },
    {
      "cell_type": "code",
      "source": [
        "import numpy as np\n",
        "\n",
        "# Check the dimensions of the embeddings\n",
        "embeds = np.array(emb)\n",
        "\n",
        "# Create the search index, pass the size of embedding\n",
        "search_index = AnnoyIndex(embeds.shape[1], 'angular')\n",
        "# Add all the vectors to the search index\n",
        "for i in range(len(embeds)):\n",
        "    search_index.add_item(i, embeds[i])\n",
        "\n",
        "search_index.build(10) # 10 trees\n",
        "search_index.save('test.ann')"
      ],
      "metadata": {
        "colab": {
          "base_uri": "https://localhost:8080/"
        },
        "id": "NRfOXT3bYT3E",
        "outputId": "8dba92bf-6451-4495-a3f3-e8bdc038df2f"
      },
      "execution_count": 43,
      "outputs": [
        {
          "output_type": "execute_result",
          "data": {
            "text/plain": [
              "True"
            ]
          },
          "metadata": {},
          "execution_count": 43
        }
      ]
    },
    {
      "cell_type": "markdown",
      "source": [
        "# Searching most Relavant Data Set"
      ],
      "metadata": {
        "id": "kO6QstfjZmpb"
      }
    },
    {
      "cell_type": "code",
      "source": [
        "def search_dataset(query):\n",
        "    # Get the query's embedding\n",
        "    query_embed = co.embed(texts=[query],\n",
        "                           model='embed-english-v2.0').embeddings\n",
        "\n",
        "    # Retrieve the nearest neighbors\n",
        "    similar_item_ids = search_index.get_nns_by_vector(query_embed[0],\n",
        "                                                    10,\n",
        "                                                  include_distances=True)\n",
        "\n",
        "    search_results = df.iloc[similar_item_ids[0][0]]\n",
        "\n",
        "    print('Data Set: ' + search_results['Data Set'])\n",
        "    print('Related Data Set: ' + search_results['Related Data Set'])\n",
        "    print(search_results['Description'])\n",
        "\n",
        "    return search_results"
      ],
      "metadata": {
        "id": "ROs8oPeaZgr8"
      },
      "execution_count": null,
      "outputs": []
    },
    {
      "cell_type": "code",
      "source": [],
      "metadata": {
        "id": "e3x6F9rL-gfp"
      },
      "execution_count": null,
      "outputs": []
    },
    {
      "cell_type": "code",
      "source": [
        "def search_andrews_article(query):\n",
        "    # Get the query's embedding\n",
        "    query_embed = co.embed(texts=[query]).embeddings\n",
        "\n",
        "    # Retrieve the nearest neighbors\n",
        "    similar_item_ids = search_index.get_nns_by_vector(query_embed[0],\n",
        "                                                    3,\n",
        "                                                  include_distances=True)\n",
        "\n",
        "    search_results = np.array(total_sentences)[similar_item_ids[0]]\n",
        "\n",
        "    return search_results\n",
        "\n",
        "\n",
        "# Print the top 10 relavent sentences with the question: \"what is BEMcyclopedia?\"\n",
        "results = search_andrews_article(\n",
        "    \"Vehicle Speed of high density pedestrian area?\"\n",
        ")\n",
        "\n",
        "print(results)"
      ],
      "metadata": {
        "colab": {
          "base_uri": "https://localhost:8080/"
        },
        "id": "hNhWcffd9UUE",
        "outputId": "5f0a4d78-1977-4c7d-c591-ce21ca3ed2f4"
      },
      "execution_count": 54,
      "outputs": [
        {
          "output_type": "stream",
          "name": "stderr",
          "text": [
            "default model on embed will be deprecated in the future, please specify a model in the request.\n"
          ]
        },
        {
          "output_type": "stream",
          "name": "stdout",
          "text": [
            "['{\\'Data Set\\': \\'Miovision_Crosswalk\\', \\'Database\\': \\'[PCDOT_Miovision].[dbo].[mio_crosswalk]\\', \\'Related Data Set\\': \\'Miovision_Intersection, Traffic_terms\\', \\'Description\\': \\'Miovision crosswalk data offers a concise summary of pedestrian and bicycle activities at intersections. Each entry is uniquely identified with a timestamp, recording the date and time of observations. The data categorizes movements into \"Pedestrian\" or \"Bicycle,\" specifying the crosswalk side, direction (CW or CCW), and the quantity of observed activities. More Info: [https://docs.api.miovision.com/]\\', \\'Location to access data  (Directory / URL/ API)\\': \\'API\\', \\'Knowledge Base\\': \\'Directory:(/Transportation_Data/Transportation_Miovision_Crosswalk.csv)\\', \\'Example API \\': \\'https://catsapi.ua-smart.org/miovision/crosswalk?int_id=01560127-afd1-40e9-bd76-904340407fd8&int_id=0d4a1ca7-45e7-43cb-80b0-005d2f49303f&date=2024-01-01\\', \\'Constrain\\': \\'(1) Intersection ID and Date are required (2) Intersection ID can be obtained from  the result of the Miovision_Intersection API (3) The amount of the Intersection ID has to be less than 10  (4) date in the format YYYY-MM-DD\\'}'\n",
            " \"{'Data Set': 'Traffic_terms', 'Database': nan, 'Related Data Set': 'Miovision_Crosswalk,Inrix_Speed', 'Description': 'The Traffic terms dataset lists the meaning of the special signs used in the related data sets. By referring to the information, people can have more understanding about the results.', 'Location to access data  (Directory / URL/ API)': 'Directory:(/Transportation_Data/Transportation_Traffic_terms.csv)', 'Knowledge Base': nan, 'Example API ': nan, 'Constrain': nan}\"\n",
            " \"{'Data Set': 'Inrix_Speed', 'Database': '[ADOT_INRIX].[dbo].[Inrix_Realtime]', 'Related Data Set': 'Inrix_Segments, Traffic_terms', 'Description': 'The Inrix Segment Speed dataset provides real-time and average speed information for road segments, enabling traffic condition and congestion level assessment. Each entry includes a timestamp, SegmentID, type (TMC or XDS), estimated speed, average speed, reference free-flow speed, confidence values, travel time, congestion levels, and segment closure information. The Segment Speeds API allows retrieving detailed road segment data based on geographies or specific identifiers, offering a valuable resource for real-time traffic monitoring, transportation planning, and informed decision-making.', 'Location to access data  (Directory / URL/ API)': 'API', 'Knowledge Base': 'Directory:(/Transportation_Data/Transportation_Inrix_Speed.csv)', 'Example API ': 'https://catsapi.ua-smart.org/inrix/speeds?segment_id=115+04103&int_id=115+04443&date=2019-05-11', 'Constrain': '(1) Segment ID and Date are required  (2) Segment ID can be gotten from the result of the Inrix_Segments API (3) The amount of the Segment ID has to be less than 5 (4) date in the format YYYY-MM-DD'}\"]\n"
          ]
        }
      ]
    },
    {
      "cell_type": "code",
      "source": [],
      "metadata": {
        "id": "37X8XdV6G78e"
      },
      "execution_count": null,
      "outputs": []
    },
    {
      "cell_type": "code",
      "source": [
        "results = search_dataset(\n",
        "    \"Vehicle Speed of high density pedestrian area?\"\n",
        ")"
      ],
      "metadata": {
        "colab": {
          "base_uri": "https://localhost:8080/",
          "height": 176
        },
        "id": "gNSZxT3uaIRA",
        "outputId": "442eab72-d983-40c3-dae2-e30198984fe6"
      },
      "execution_count": 50,
      "outputs": [
        {
          "output_type": "error",
          "ename": "NameError",
          "evalue": "name 'search_dataset' is not defined",
          "traceback": [
            "\u001b[0;31m---------------------------------------------------------------------------\u001b[0m",
            "\u001b[0;31mNameError\u001b[0m                                 Traceback (most recent call last)",
            "\u001b[0;32m<ipython-input-50-b5ba96a59087>\u001b[0m in \u001b[0;36m<cell line: 1>\u001b[0;34m()\u001b[0m\n\u001b[0;32m----> 1\u001b[0;31m results = search_dataset(\n\u001b[0m\u001b[1;32m      2\u001b[0m     \u001b[0;34m\"Vehicle Speed of high density pedestrian area?\"\u001b[0m\u001b[0;34m\u001b[0m\u001b[0;34m\u001b[0m\u001b[0m\n\u001b[1;32m      3\u001b[0m )\n",
            "\u001b[0;31mNameError\u001b[0m: name 'search_dataset' is not defined"
          ]
        }
      ]
    },
    {
      "cell_type": "code",
      "source": [],
      "metadata": {
        "id": "-Rt6w6pAvMIP"
      },
      "execution_count": null,
      "outputs": []
    },
    {
      "cell_type": "markdown",
      "source": [],
      "metadata": {
        "id": "-bzGDKpxGh6u"
      }
    },
    {
      "cell_type": "code",
      "source": [
        "def ask(question, num_generations=1):\n",
        "\n",
        "    # Search the text archive\n",
        "    results = search_andrews_article(question)\n",
        "\n",
        "    # Get the top result\n",
        "    context = results\n",
        "\n",
        "    # Prepare the prompt\n",
        "    prompt = f\"\"\"\n",
        "    Excerpt from the BEMcyclopedia: https://bemcyclopedia.com/index.html:\n",
        "    {context}\n",
        "    Question: {question}\n",
        "\n",
        "    Extract the answer of the question from the text provided.\n",
        "    If the text doesn't contain the answer,\n",
        "    reply that the answer is not available.\"\"\"\n",
        "\n",
        "#     print(prompt)\n",
        "\n",
        "    prediction = co.generate(\n",
        "        prompt=prompt,\n",
        "        max_tokens=700,\n",
        "        model=\"command-nightly\",\n",
        "        temperature=1,\n",
        "        num_generations=num_generations\n",
        "    )\n",
        "\n",
        "    return prediction.generations"
      ],
      "metadata": {
        "id": "RjyVkkWhGiMP"
      },
      "execution_count": 51,
      "outputs": []
    },
    {
      "cell_type": "code",
      "source": [
        "results = ask(\n",
        "    \"Vehicle Speed of high density pedestrian area?\",\n",
        ")\n",
        "\n",
        "print(results[0])"
      ],
      "metadata": {
        "colab": {
          "base_uri": "https://localhost:8080/"
        },
        "id": "m5C-wzCgGjHL",
        "outputId": "0414b6f1-727c-4edc-ddde-529579ca9d72"
      },
      "execution_count": 55,
      "outputs": [
        {
          "output_type": "stream",
          "name": "stderr",
          "text": [
            "default model on embed will be deprecated in the future, please specify a model in the request.\n"
          ]
        },
        {
          "output_type": "stream",
          "name": "stdout",
          "text": [
            "The answer is not available. The text does not provide any information about vehicle speeds in high-density pedestrian areas. It seems that the provided text is a description of various data sets and databases. If you have specific data sets or additional information, I can try to extract the answer for you.\n"
          ]
        }
      ]
    },
    {
      "cell_type": "code",
      "source": [
        "results = ask(\n",
        "    \"what dataset should I take a look if I want to know the traffic speed?\",\n",
        ")\n",
        "\n",
        "print(results[0])"
      ],
      "metadata": {
        "colab": {
          "base_uri": "https://localhost:8080/"
        },
        "id": "WDHFiTBgGznX",
        "outputId": "5976fdef-1d04-40be-90f8-c71d875a710b"
      },
      "execution_count": 56,
      "outputs": [
        {
          "output_type": "stream",
          "name": "stderr",
          "text": [
            "default model on embed will be deprecated in the future, please specify a model in the request.\n"
          ]
        },
        {
          "output_type": "stream",
          "name": "stdout",
          "text": [
            "Inrix_Speed dataset.\n"
          ]
        }
      ]
    },
    {
      "cell_type": "code",
      "source": [
        "results = ask(\n",
        "    \"what url should I take a look if I want to know the traffic speed?\",\n",
        ")\n",
        "\n",
        "print(results[0])"
      ],
      "metadata": {
        "colab": {
          "base_uri": "https://localhost:8080/",
          "height": 211
        },
        "id": "X0FKg9RXJl_v",
        "outputId": "b6b2402d-22a4-498c-ea1e-adf92b7a7139"
      },
      "execution_count": 1,
      "outputs": [
        {
          "output_type": "error",
          "ename": "NameError",
          "evalue": "name 'ask' is not defined",
          "traceback": [
            "\u001b[0;31m---------------------------------------------------------------------------\u001b[0m",
            "\u001b[0;31mNameError\u001b[0m                                 Traceback (most recent call last)",
            "\u001b[0;32m<ipython-input-1-eda6115f8c61>\u001b[0m in \u001b[0;36m<cell line: 1>\u001b[0;34m()\u001b[0m\n\u001b[0;32m----> 1\u001b[0;31m results = ask(\n\u001b[0m\u001b[1;32m      2\u001b[0m     \u001b[0;34m\"what url should I take a look if I want to know the traffic speed?\"\u001b[0m\u001b[0;34m,\u001b[0m\u001b[0;34m\u001b[0m\u001b[0;34m\u001b[0m\u001b[0m\n\u001b[1;32m      3\u001b[0m )\n\u001b[1;32m      4\u001b[0m \u001b[0;34m\u001b[0m\u001b[0m\n\u001b[1;32m      5\u001b[0m \u001b[0mprint\u001b[0m\u001b[0;34m(\u001b[0m\u001b[0mresults\u001b[0m\u001b[0;34m[\u001b[0m\u001b[0;36m0\u001b[0m\u001b[0;34m]\u001b[0m\u001b[0;34m)\u001b[0m\u001b[0;34m\u001b[0m\u001b[0;34m\u001b[0m\u001b[0m\n",
            "\u001b[0;31mNameError\u001b[0m: name 'ask' is not defined"
          ]
        }
      ]
    },
    {
      "cell_type": "code",
      "source": [
        "results = ask(\n",
        "    \"what url should I use if I want to know the traffic speed in segment id 12345?\",\n",
        ")\n",
        "\n",
        "print(results[0])"
      ],
      "metadata": {
        "colab": {
          "base_uri": "https://localhost:8080/"
        },
        "id": "i43B6Y6VJugC",
        "outputId": "b0d555ff-7094-4429-ebdf-1e745c95b93a"
      },
      "execution_count": 58,
      "outputs": [
        {
          "output_type": "stream",
          "name": "stderr",
          "text": [
            "default model on embed will be deprecated in the future, please specify a model in the request.\n"
          ]
        },
        {
          "output_type": "stream",
          "name": "stdout",
          "text": [
            "https://catsapi.ua-smart.org/inrix/speeds?segment_id=12345&int_id=null&date=current_date\n"
          ]
        }
      ]
    },
    {
      "cell_type": "code",
      "source": [],
      "metadata": {
        "id": "9RvztQTWJ_-x"
      },
      "execution_count": null,
      "outputs": []
    }
  ]
}